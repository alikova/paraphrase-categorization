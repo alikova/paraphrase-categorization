{
  "nbformat": 4,
  "nbformat_minor": 0,
  "metadata": {
    "colab": {
      "provenance": [],
      "authorship_tag": "ABX9TyPNbhZ0zNb5+3HpXY6UwchT",
      "include_colab_link": true
    },
    "kernelspec": {
      "name": "python3",
      "display_name": "Python 3"
    },
    "language_info": {
      "name": "python"
    }
  },
  "cells": [
    {
      "cell_type": "markdown",
      "metadata": {
        "id": "view-in-github",
        "colab_type": "text"
      },
      "source": [
        "<a href=\"https://colab.research.google.com/github/alikova/paraphrase-categorization/blob/main/SQL_data_anaysis.ipynb\" target=\"_parent\"><img src=\"https://colab.research.google.com/assets/colab-badge.svg\" alt=\"Open In Colab\"/></a>"
      ]
    },
    {
      "cell_type": "markdown",
      "metadata": {
        "id": "j9NLS82cGq5F"
      },
      "source": [
        "## Mount Google Drive"
      ]
    },
    {
      "cell_type": "code",
      "source": [
        "from google.colab import drive\n",
        "drive.mount('/content/drive')"
      ],
      "metadata": {
        "colab": {
          "base_uri": "https://localhost:8080/"
        },
        "id": "m6qZjDDI-ENG",
        "outputId": "0ceb5e1c-b258-4338-bc9a-cd9d941d686c"
      },
      "execution_count": 1,
      "outputs": [
        {
          "output_type": "stream",
          "name": "stdout",
          "text": [
            "Mounted at /content/drive\n"
          ]
        }
      ]
    },
    {
      "cell_type": "markdown",
      "metadata": {
        "id": "8rUN7eCZBkXU"
      },
      "source": [
        "## Git add and commit"
      ]
    },
    {
      "cell_type": "code",
      "source": [
        "!apt-get install git"
      ],
      "metadata": {
        "colab": {
          "base_uri": "https://localhost:8080/"
        },
        "id": "HWLDJOlN7vbJ",
        "outputId": "e7afce65-7369-4df4-cbea-ff09d3dfb303"
      },
      "execution_count": 2,
      "outputs": [
        {
          "output_type": "stream",
          "name": "stdout",
          "text": [
            "Reading package lists... Done\n",
            "Building dependency tree... Done\n",
            "Reading state information... Done\n",
            "git is already the newest version (1:2.34.1-1ubuntu1.12).\n",
            "0 upgraded, 0 newly installed, 0 to remove and 30 not upgraded.\n"
          ]
        }
      ]
    },
    {
      "cell_type": "code",
      "source": [
        "import os\n",
        "\n",
        "github_token = os.getenv('gentok')\n",
        "\n",
        "!git config --global user.name \"alikova\"\n",
        "!git config --global user.email \"z.alenka7@gmail.com\"\n"
      ],
      "metadata": {
        "id": "jVcDaO9B7FKr"
      },
      "execution_count": 3,
      "outputs": []
    },
    {
      "cell_type": "code",
      "source": [
        "repo_url = \"https://github.com/alikova/paraphrase-categorization.git\"\n",
        "!git clone {repo_url}"
      ],
      "metadata": {
        "colab": {
          "base_uri": "https://localhost:8080/"
        },
        "id": "nJ9Jcr5f75Ub",
        "outputId": "7df22f61-ab28-455c-b4bd-9733e7b12c46"
      },
      "execution_count": 4,
      "outputs": [
        {
          "output_type": "stream",
          "name": "stdout",
          "text": [
            "Cloning into 'paraphrase-categorization'...\n",
            "remote: Enumerating objects: 214, done.\u001b[K\n",
            "remote: Counting objects: 100% (15/15), done.\u001b[K\n",
            "remote: Compressing objects: 100% (11/11), done.\u001b[K\n",
            "remote: Total 214 (delta 7), reused 9 (delta 4), pack-reused 199 (from 1)\u001b[K\n",
            "Receiving objects: 100% (214/214), 99.93 MiB | 24.13 MiB/s, done.\n",
            "Resolving deltas: 100% (99/99), done.\n"
          ]
        }
      ]
    },
    {
      "cell_type": "code",
      "source": [
        "repo_name = \"paraphrase-categorization\"\n",
        "remote_url = f\"https://{github_token}@github.com/alikova/{repo_name}.git\"\n",
        "!git -C {repo_url}"
      ],
      "metadata": {
        "colab": {
          "base_uri": "https://localhost:8080/"
        },
        "id": "EmckKh698ONa",
        "outputId": "20add903-4707-4e51-b9f5-ee31d6406cf2"
      },
      "execution_count": 5,
      "outputs": [
        {
          "output_type": "stream",
          "name": "stdout",
          "text": [
            "fatal: cannot change to 'https://github.com/alikova/paraphrase-categorization.git': No such file or directory\n"
          ]
        }
      ]
    },
    {
      "cell_type": "code",
      "source": [
        "# Add and commit the notebook\n",
        "notebook_path = f\"{repo_name}/SQL_data_anaysis.ipynb\"\n",
        "!cp your_notebook.ipynb {notebook_path}\n",
        "!git -C {repo_name} add {notebook_path}\n",
        "!git -C {repo_name} commit -m \"Update notebook from Colab\""
      ],
      "metadata": {
        "colab": {
          "base_uri": "https://localhost:8080/"
        },
        "id": "pu6CeNWj8bbA",
        "outputId": "b16487c1-13b5-40ef-d10b-522541f33edf"
      },
      "execution_count": 8,
      "outputs": [
        {
          "output_type": "stream",
          "name": "stdout",
          "text": [
            "cp: cannot stat 'your_notebook.ipynb': No such file or directory\n",
            "fatal: cannot change to 'paraphrase-categorization': No such file or directory\n",
            "fatal: cannot change to 'paraphrase-categorization': No such file or directory\n"
          ]
        }
      ]
    },
    {
      "cell_type": "code",
      "source": [
        "# Push changes to GitHub\n",
        "!git -C {repo_name} push origin main"
      ],
      "metadata": {
        "id": "gXsLe7F08nTu"
      },
      "execution_count": null,
      "outputs": []
    },
    {
      "cell_type": "code",
      "source": [
        "print(os.getcwd())"
      ],
      "metadata": {
        "colab": {
          "base_uri": "https://localhost:8080/"
        },
        "id": "4FPPucJ9Htfm",
        "outputId": "20c9dfb2-c4c4-44a2-f792-43c50252fce0"
      },
      "execution_count": 7,
      "outputs": [
        {
          "output_type": "stream",
          "name": "stdout",
          "text": [
            "/content/paraphrase-categorization\n"
          ]
        }
      ]
    },
    {
      "cell_type": "code",
      "source": [
        "import os\n",
        "\n",
        "# Set Git configuration\n",
        "!git config --global user.name \"alikova\"\n",
        "!git config --global user.email \"z.alenka7@gmail.com\"\n",
        "\n",
        "# Define the repository name\n",
        "repo_name = \"paraphrase-categorization\"\n",
        "\n",
        "# Ensure the repository directory exists\n",
        "if os.path.exists(repo_name):\n",
        "    os.chdir(repo_name)\n",
        "\n",
        "    # Define the script file name\n",
        "    script_file = \"SQL_data_analysis.ipynb\"\n",
        "\n",
        "    # Check if the script file exists in the current directory\n",
        "    if os.path.exists(script_file):\n",
        "        # Add and commit the script\n",
        "        !git add {script_file}\n",
        "        !git commit -m \"Add SQL data analysis script to the repository\"\n",
        "\n",
        "        # Push changes to GitHub\n",
        "        !git push origin main\n",
        "    else:\n",
        "        print(f\"File {script_file} does not exist in the repository directory.\")\n",
        "else:\n",
        "    print(f\"Repository directory {repo_name} does not exist.\")\n",
        "\n",
        "# Copy the notebook to the repository directory and commit\n",
        "source_notebook = \"../your_notebook.ipynb\"  # Adjust the path as needed\n",
        "if os.path.exists(source_notebook):\n",
        "    !cp {source_notebook} .\n",
        "    !git add {script_file}\n",
        "    !git commit -m \"Update notebook from Colab\"\n",
        "    !git push origin main\n",
        "else:\n",
        "    print(f\"Source file {source_notebook} does not exist.\")\n"
      ],
      "metadata": {
        "id": "jOvmmSInD0QY"
      },
      "execution_count": 6,
      "outputs": []
    },
    {
      "cell_type": "markdown",
      "source": [
        "## Convert the excel file to SQL"
      ],
      "metadata": {
        "id": "ufps4KjAba57"
      }
    },
    {
      "cell_type": "code",
      "source": [
        "import pandas as pd\n",
        "import sqlite3\n",
        "\n",
        "file_path = file_path = '/content/drive/My Drive/Google Colab/preprocessed_datasets/paraphrase_extracts/high_confidence_paraphrases.csv'\n",
        "\n",
        "df = pd.read_csv(file_path)\n",
        "\n",
        "print(df.head())\n",
        "\n"
      ],
      "metadata": {
        "id": "z047tKTDbi20"
      },
      "execution_count": null,
      "outputs": []
    }
  ]
}
